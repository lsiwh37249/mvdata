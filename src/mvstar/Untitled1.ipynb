{
 "cells": [
  {
   "cell_type": "code",
   "execution_count": 3,
   "id": "e361143d-58a3-4c94-b469-2e1c234f8626",
   "metadata": {},
   "outputs": [
    {
     "name": "stdout",
     "output_type": "stream",
     "text": [
      "Collecting tqdm\n",
      "  Using cached tqdm-4.66.5-py3-none-any.whl.metadata (57 kB)\n",
      "Using cached tqdm-4.66.5-py3-none-any.whl (78 kB)\n",
      "Installing collected packages: tqdm\n",
      "Successfully installed tqdm-4.66.5\n",
      "Note: you may need to restart the kernel to use updated packages.\n"
     ]
    }
   ],
   "source": [
    "pip install tqdm"
   ]
  },
  {
   "cell_type": "code",
   "execution_count": 4,
   "id": "e5739129-7d2f-4e98-84cf-48cb82fd2985",
   "metadata": {},
   "outputs": [],
   "source": [
    "import requests\n",
    "import os\n",
    "import json\n",
    "import time\n",
    "from tqdm import tqdm\n",
    "\n",
    "API_KEY = os.getenv('MOVIE_API_KEY')\n",
    "\n",
    "def save_json(data, file_path):\n",
    "    # 파일저장 경로 MKDIR\n",
    "    os.makedirs(os.path.dirname(file_path), exist_ok=True)\n",
    "\n",
    "    with open(file_path, 'w', encoding='utf-8') as f:\n",
    "        json.dump(data, f, indent=4, ensure_ascii=False)\n",
    "\n",
    "def req(url):\n",
    "    r = requests.get(url)\n",
    "    j = r.json()\n",
    "    return j\n",
    "\n",
    "def save_movies(year, per_page=10, sleep_time=1):\n",
    "    file_path = f'data/movies/year={year}/data.json'\n",
    "    \n",
    "    # 위 경로가 있으면 API 호출을 멈추고 프로그램 종료\n",
    "    os.path.exists(file_path):\n",
    "        return True\n",
    "    # totCnt 갖여오고 total_pages 계산\n",
    "    url_base = f\"https://kobis.or.kr/kobisopenapi/webservice/rest/movie/searchMovieList.json?key={API_KEY}&openStartDt={year}&openEndDt={year}\"\n",
    "    r = req(url_base + f\"curPage=1\")\n",
    "    tot_cnt = r['movieListResult']['totCnt']\n",
    "    total_pages = (tot_cnt // per_page) + 1\n",
    "\n",
    "    # total_pages 만큼 Loop 돌면서 API 호출\n",
    "    all_data = []\n",
    "    for page in tqdm(range(1, total_pages + 1)):\n",
    "        time.sleep(sleep_time)\n",
    "        \n",
    "        url_addPage = url_base + f\"curPage={page}\"\n",
    "        r = req(url_addPage)\n",
    "        d = r['movieListResult']['movieList']\n",
    "        all_data.extend(d)\n",
    "\n",
    "    save_json(all_data, file_path)\n",
    "    return True\n",
    "\n"
   ]
  },
  {
   "cell_type": "code",
   "execution_count": null,
   "id": "2b3c8fa9-cd96-44a5-b91e-785db26aee9e",
   "metadata": {},
   "outputs": [],
   "source": []
  }
 ],
 "metadata": {
  "kernelspec": {
   "display_name": "Python 3 (ipykernel)",
   "language": "python",
   "name": "python3"
  },
  "language_info": {
   "codemirror_mode": {
    "name": "ipython",
    "version": 3
   },
   "file_extension": ".py",
   "mimetype": "text/x-python",
   "name": "python",
   "nbconvert_exporter": "python",
   "pygments_lexer": "ipython3",
   "version": "3.11.9"
  }
 },
 "nbformat": 4,
 "nbformat_minor": 5
}
