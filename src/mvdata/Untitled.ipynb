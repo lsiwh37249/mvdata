{
 "cells": [
  {
   "cell_type": "code",
   "execution_count": 3,
   "id": "a03569d2-71b5-4cd0-9079-4f1dae4314bd",
   "metadata": {},
   "outputs": [
    {
     "name": "stdout",
     "output_type": "stream",
     "text": [
      "Collecting fastapi\n",
      "  Using cached fastapi-0.112.0-py3-none-any.whl.metadata (27 kB)\n",
      "Collecting starlette<0.38.0,>=0.37.2 (from fastapi)\n",
      "  Using cached starlette-0.37.2-py3-none-any.whl.metadata (5.9 kB)\n",
      "Collecting pydantic!=1.8,!=1.8.1,!=2.0.0,!=2.0.1,!=2.1.0,<3.0.0,>=1.7.4 (from fastapi)\n",
      "  Using cached pydantic-2.8.2-py3-none-any.whl.metadata (125 kB)\n",
      "Requirement already satisfied: typing-extensions>=4.8.0 in /home/kim1/.pyenv/versions/note/lib/python3.11/site-packages (from fastapi) (4.12.2)\n",
      "Collecting annotated-types>=0.4.0 (from pydantic!=1.8,!=1.8.1,!=2.0.0,!=2.0.1,!=2.1.0,<3.0.0,>=1.7.4->fastapi)\n",
      "  Using cached annotated_types-0.7.0-py3-none-any.whl.metadata (15 kB)\n",
      "Collecting pydantic-core==2.20.1 (from pydantic!=1.8,!=1.8.1,!=2.0.0,!=2.0.1,!=2.1.0,<3.0.0,>=1.7.4->fastapi)\n",
      "  Using cached pydantic_core-2.20.1-cp311-cp311-manylinux_2_17_x86_64.manylinux2014_x86_64.whl.metadata (6.6 kB)\n",
      "Requirement already satisfied: anyio<5,>=3.4.0 in /home/kim1/.pyenv/versions/note/lib/python3.11/site-packages (from starlette<0.38.0,>=0.37.2->fastapi) (4.4.0)\n",
      "Requirement already satisfied: idna>=2.8 in /home/kim1/.pyenv/versions/note/lib/python3.11/site-packages (from anyio<5,>=3.4.0->starlette<0.38.0,>=0.37.2->fastapi) (3.7)\n",
      "Requirement already satisfied: sniffio>=1.1 in /home/kim1/.pyenv/versions/note/lib/python3.11/site-packages (from anyio<5,>=3.4.0->starlette<0.38.0,>=0.37.2->fastapi) (1.3.1)\n",
      "Using cached fastapi-0.112.0-py3-none-any.whl (93 kB)\n",
      "Using cached pydantic-2.8.2-py3-none-any.whl (423 kB)\n",
      "Using cached pydantic_core-2.20.1-cp311-cp311-manylinux_2_17_x86_64.manylinux2014_x86_64.whl (2.1 MB)\n",
      "Using cached starlette-0.37.2-py3-none-any.whl (71 kB)\n",
      "Using cached annotated_types-0.7.0-py3-none-any.whl (13 kB)\n",
      "Installing collected packages: pydantic-core, annotated-types, starlette, pydantic, fastapi\n",
      "Successfully installed annotated-types-0.7.0 fastapi-0.112.0 pydantic-2.8.2 pydantic-core-2.20.1 starlette-0.37.2\n",
      "Note: you may need to restart the kernel to use updated packages.\n"
     ]
    }
   ],
   "source": [
    "pip install fastapi"
   ]
  },
  {
   "cell_type": "code",
   "execution_count": 10,
   "id": "bcd80d3d-15f7-4e0c-b2c4-ad873a1c3584",
   "metadata": {},
   "outputs": [],
   "source": [
    "from typing import Union\n",
    "\n",
    "from fastapi import FastAPI, HTTPException\n",
    "import pandas as pd\n",
    "import os\n",
    "import requests\n",
    "\n",
    "import json\n",
    "import time\n",
    "from tqdm import tqdm\n",
    "\n",
    "\n",
    "app = FastAPI()"
   ]
  },
  {
   "cell_type": "code",
   "execution_count": 6,
   "id": "2652836f-c496-49d1-8506-cbe2acead3c0",
   "metadata": {},
   "outputs": [],
   "source": [
    "def get_key():\n",
    "    key = os.getenv('MOVIE_API_KEY')\n",
    "    return key\n",
    "\n",
    "def req(movie_cd, url_param = {}):\n",
    "    url = gen_url(movie_cd, url_param)\n",
    "    r = requests.get(url)\n",
    "    code = r.status_code\n",
    "    data = r.json()\n",
    "    print(data)\n",
    "    return code, data\n",
    "\n",
    "def gen_url(movie_cd, url_param = {}):\n",
    "    #base_url = \"http://www.kobis.or.kr/kobisopenapi/webservice/rest/boxoffice/searchDailyBoxOfficeList.json\"\n",
    "    #base_url = \"http://www.kobis.or.kr/kobisopenapi/webservice/rest/movie/searchMovieInfo.json\"\n",
    "    base_url = \"http://www.kobis.or.kr/kobisopenapi/webservice/rest/company/searchCompanyList.json\"\n",
    "    \n",
    "    key = get_key()\n",
    "    url = f\"{base_url}?key={key}&curPage=1\"\n",
    "    for k, v in url_param.items():\n",
    "        url = url + f\"&{k}={v}\"\n",
    "    return url\n",
    "\n",
    "#df = pd.read_parquet('/home/kim1/code/ffapi/data')"
   ]
  },
  {
   "cell_type": "code",
   "execution_count": 7,
   "id": "d81dd4af-fa83-4cd8-9c41-2920dd46bea6",
   "metadata": {},
   "outputs": [],
   "source": [
    "@app.get(\"/\")\n",
    "def read_root():\n",
    "    return {\"Hello\": \"World\"}"
   ]
  },
  {
   "cell_type": "code",
   "execution_count": 8,
   "id": "47778427-16ff-4379-b303-3dadb4d80d42",
   "metadata": {},
   "outputs": [],
   "source": [
    "@app.get(\"/sample\")\n",
    "def sample_data():\n",
    "    df = pd.read_parquet('/home/kim1/code/ffapi/data')\n",
    "    sample_df = df.sample(n=5)\n",
    "    r = sample_df.to_dict(orient='records')\n",
    "    return r"
   ]
  },
  {
   "cell_type": "code",
   "execution_count": 9,
   "id": "ec27d81b-98a0-4404-9ab9-73e95c6f0a40",
   "metadata": {},
   "outputs": [],
   "source": [
    "@app.get(\"/movie/{movie_cd}\")\n",
    "def movie_meta(movie_cd: str):\n",
    "    df = pd.read_parquet('/home/kim1/code/ffapi/data')\n",
    "\n",
    "    # df 에서 movieCd == movie_cd row 를 조회 df[['a'] === b] ...\n",
    "    meta_df = df[df['movieCd'] == movie_cd]\n",
    "\n",
    "    if meta_df.empty:\n",
    "        raise HTTPException(status_code=404, detail=\"영화를 찾을 수 없습니다\")\n",
    "\n",
    "    # 조회된 데이터를 .to_dict() 로 만들어 아래에서 return\n",
    "    r = meta_df.iloc[0].to_dict()\n",
    "\n",
    "    if r['repNationCd'] is None:\n",
    "        _,rr = req(movie_cd)\n",
    "        print(rr)\n",
    "        new_rr=rr[\"movieInfoResult\"][\"movieInfo\"]\n",
    "\n",
    "        nation = new_rr[\"nations\"][0]\n",
    "\n",
    "        if nation['nationNm'] != '한국':\n",
    "            r['repNationCd'] = 'F'\n",
    "        else:\n",
    "            r['repNationCd'] = 'N'\n",
    "\n",
    "    return r"
   ]
  },
  {
   "cell_type": "code",
   "execution_count": null,
   "id": "d6347c35-0c92-478d-a8ae-c68a4c23e47a",
   "metadata": {},
   "outputs": [],
   "source": []
  }
 ],
 "metadata": {
  "kernelspec": {
   "display_name": "Python 3 (ipykernel)",
   "language": "python",
   "name": "python3"
  },
  "language_info": {
   "codemirror_mode": {
    "name": "ipython",
    "version": 3
   },
   "file_extension": ".py",
   "mimetype": "text/x-python",
   "name": "python",
   "nbconvert_exporter": "python",
   "pygments_lexer": "ipython3",
   "version": "3.11.9"
  }
 },
 "nbformat": 4,
 "nbformat_minor": 5
}
